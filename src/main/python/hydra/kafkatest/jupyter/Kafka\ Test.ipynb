{
 "cells": [
  {
   "cell_type": "code",
   "execution_count": 1,
   "metadata": {
    "collapsed": true
   },
   "outputs": [],
   "source": [
    "import sys\n",
    "from pprint import pprint, pformat  # NOQA\n",
    "from optparse import OptionParser\n",
    "from hydra.kafkatest.runtest import RunTestKAFKA"
   ]
  },
  {
   "cell_type": "code",
   "execution_count": 2,
   "metadata": {
    "collapsed": false
   },
   "outputs": [],
   "source": [
    "class Options():\n",
    "    test_duration = 10\n",
    "    msg_batch = 100        \n",
    "    msg_rate= 2000\n",
    "    total_sub_apps = 1\n",
    "    config_file = 'hydra.ini'\n",
    "    keep_running = False"
   ]
  },
  {
   "cell_type": "code",
   "execution_count": 3,
   "metadata": {
    "collapsed": false
   },
   "outputs": [
    {
     "name": "stderr",
     "output_type": "stream",
     "text": [
      "ERROR 2016-05-31 18:07:07,611 runtestbase.py:__init__:52 Unable to open config file hydra.ini\n"
     ]
    },
    {
     "ename": "Exception",
     "evalue": "Unable to open config file hydra.ini",
     "output_type": "error",
     "traceback": [
      "\u001b[1;31m---------------------------------------------------------------------------\u001b[0m",
      "\u001b[1;31mException\u001b[0m                                 Traceback (most recent call last)",
      "\u001b[1;32m<ipython-input-3-3a95001459d1>\u001b[0m in \u001b[0;36m<module>\u001b[1;34m()\u001b[0m\n\u001b[0;32m      2\u001b[0m \u001b[0mtest_instance\u001b[0m \u001b[1;33m=\u001b[0m \u001b[0mNone\u001b[0m\u001b[1;33m\u001b[0m\u001b[0m\n\u001b[0;32m      3\u001b[0m \u001b[0moptions\u001b[0m \u001b[1;33m=\u001b[0m \u001b[0mOptions\u001b[0m\u001b[1;33m(\u001b[0m\u001b[1;33m)\u001b[0m\u001b[1;33m\u001b[0m\u001b[0m\n\u001b[1;32m----> 4\u001b[1;33m \u001b[0mrunner\u001b[0m \u001b[1;33m=\u001b[0m \u001b[0mRunTestKAFKA\u001b[0m\u001b[1;33m(\u001b[0m\u001b[0moptions\u001b[0m\u001b[1;33m,\u001b[0m \u001b[0mFalse\u001b[0m\u001b[1;33m)\u001b[0m      \u001b[1;31m#Initialize ALL variables (from CLI options and hydra.ini config file)\u001b[0m\u001b[1;33m\u001b[0m\u001b[0m\n\u001b[0m\u001b[0;32m      5\u001b[0m \u001b[0mfirst_test\u001b[0m \u001b[1;33m=\u001b[0m \u001b[0mFalse\u001b[0m\u001b[1;33m\u001b[0m\u001b[0m\n",
      "\u001b[1;32m/home/annyz/venv/local/lib/python2.7/site-packages/hydra/kafkatest/runtest.pyc\u001b[0m in \u001b[0;36m__init__\u001b[1;34m(self, options, runtest, mock)\u001b[0m\n\u001b[0;32m     40\u001b[0m         \u001b[0mself\u001b[0m\u001b[1;33m.\u001b[0m\u001b[0mconfig\u001b[0m \u001b[1;33m=\u001b[0m \u001b[0mConfigParser\u001b[0m\u001b[1;33m(\u001b[0m\u001b[1;33m)\u001b[0m    \u001b[1;31m#Object contains 'configurations' parsed from hydra.ini config file\u001b[0m\u001b[1;33m\u001b[0m\u001b[0m\n\u001b[0;32m     41\u001b[0m \u001b[1;33m\u001b[0m\u001b[0m\n\u001b[1;32m---> 42\u001b[1;33m         \u001b[0mRunTestBase\u001b[0m\u001b[1;33m.\u001b[0m\u001b[0m__init__\u001b[0m\u001b[1;33m(\u001b[0m\u001b[0mself\u001b[0m\u001b[1;33m,\u001b[0m \u001b[1;34m'KAFKAScale'\u001b[0m\u001b[1;33m,\u001b[0m \u001b[0mself\u001b[0m\u001b[1;33m.\u001b[0m\u001b[0moptions\u001b[0m\u001b[1;33m,\u001b[0m \u001b[0mself\u001b[0m\u001b[1;33m.\u001b[0m\u001b[0mconfig\u001b[0m\u001b[1;33m,\u001b[0m \u001b[0mstartappserver\u001b[0m\u001b[1;33m=\u001b[0m\u001b[0mruntest\u001b[0m\u001b[1;33m,\u001b[0m \u001b[0mmock\u001b[0m\u001b[1;33m=\u001b[0m\u001b[0mmock\u001b[0m\u001b[1;33m)\u001b[0m\u001b[1;33m\u001b[0m\u001b[0m\n\u001b[0m\u001b[0;32m     43\u001b[0m         \u001b[0mself\u001b[0m\u001b[1;33m.\u001b[0m\u001b[0mkafkapub\u001b[0m \u001b[1;33m=\u001b[0m \u001b[0mself\u001b[0m\u001b[1;33m.\u001b[0m\u001b[0mformat_appname\u001b[0m\u001b[1;33m(\u001b[0m\u001b[1;34m'/kafka-pub'\u001b[0m\u001b[1;33m)\u001b[0m\u001b[1;33m\u001b[0m\u001b[0m\n\u001b[0;32m     44\u001b[0m         \u001b[0mself\u001b[0m\u001b[1;33m.\u001b[0m\u001b[0mkafkasub\u001b[0m \u001b[1;33m=\u001b[0m \u001b[0mself\u001b[0m\u001b[1;33m.\u001b[0m\u001b[0mformat_appname\u001b[0m\u001b[1;33m(\u001b[0m\u001b[1;34m'/kafka-sub'\u001b[0m\u001b[1;33m)\u001b[0m\u001b[1;33m\u001b[0m\u001b[0m\n",
      "\u001b[1;32m/home/annyz/venv/local/lib/python2.7/site-packages/hydra/lib/runtestbase.pyc\u001b[0m in \u001b[0;36m__init__\u001b[1;34m(self, test_name, options, config, startappserver, mock)\u001b[0m\n\u001b[0;32m     51\u001b[0m         \u001b[1;32mif\u001b[0m \u001b[1;32mnot\u001b[0m \u001b[0mos\u001b[0m\u001b[1;33m.\u001b[0m\u001b[0mpath\u001b[0m\u001b[1;33m.\u001b[0m\u001b[0misfile\u001b[0m\u001b[1;33m(\u001b[0m\u001b[0mconfig_filename\u001b[0m\u001b[1;33m)\u001b[0m\u001b[1;33m:\u001b[0m\u001b[1;33m\u001b[0m\u001b[0m\n\u001b[0;32m     52\u001b[0m             \u001b[0ml\u001b[0m\u001b[1;33m.\u001b[0m\u001b[0merror\u001b[0m\u001b[1;33m(\u001b[0m\u001b[1;34m\"Unable to open config file %s\"\u001b[0m \u001b[1;33m%\u001b[0m \u001b[0mconfig_filename\u001b[0m\u001b[1;33m)\u001b[0m\u001b[1;33m\u001b[0m\u001b[0m\n\u001b[1;32m---> 53\u001b[1;33m             \u001b[1;32mraise\u001b[0m \u001b[0mException\u001b[0m\u001b[1;33m(\u001b[0m\u001b[1;34m\"Unable to open config file %s\"\u001b[0m \u001b[1;33m%\u001b[0m \u001b[0mconfig_filename\u001b[0m\u001b[1;33m)\u001b[0m\u001b[1;33m\u001b[0m\u001b[0m\n\u001b[0m\u001b[0;32m     54\u001b[0m         \u001b[0mconfig\u001b[0m\u001b[1;33m.\u001b[0m\u001b[0mread\u001b[0m\u001b[1;33m(\u001b[0m\u001b[0mconfig_filename\u001b[0m\u001b[1;33m)\u001b[0m\u001b[1;33m\u001b[0m\u001b[0m\n\u001b[0;32m     55\u001b[0m         \u001b[0mself\u001b[0m\u001b[1;33m.\u001b[0m\u001b[0mpwd\u001b[0m \u001b[1;33m=\u001b[0m \u001b[0mos\u001b[0m\u001b[1;33m.\u001b[0m\u001b[0mgetcwd\u001b[0m\u001b[1;33m(\u001b[0m\u001b[1;33m)\u001b[0m\u001b[1;33m\u001b[0m\u001b[0m\n",
      "\u001b[1;31mException\u001b[0m: Unable to open config file hydra.ini"
     ]
    }
   ],
   "source": [
    "global_results = dict()\n",
    "test_instance = None\n",
    "options = Options()\n",
    "runner = RunTestKAFKA(options, False)      #Initialize ALL variables (from CLI options and hydra.ini config file)\n",
    "first_test = False"
   ]
  },
  {
   "cell_type": "code",
   "execution_count": 4,
   "metadata": {
    "collapsed": false
   },
   "outputs": [],
   "source": [
    "def RunTest(test_name, first_test):\n",
    "    if not first_test:\n",
    "        runner.start_appserver()\n",
    "        first_test = True\n",
    "    else:\n",
    "        runner.set_options(options)\n",
    "        runner.scale_sub_app()\n",
    "    res = runner.run_test()\n",
    "    print(\"RES = \" + pformat(res))\n",
    "    if not str(options.total_sub_apps) in global_results:\n",
    "         global_results[str(options.total_sub_apps)] = {}\n",
    "    global_results[str(options.total_sub_apps)][test_name] = res\n"
   ]
  },
  {
   "cell_type": "code",
   "execution_count": null,
   "metadata": {
    "collapsed": false,
    "scrolled": false
   },
   "outputs": [],
   "source": [
    "#client_set = [1, 5, 10, 20, 25, 30]\n",
    "#msg_rate_set = [500, 1000, 2000, 3000, 4000, 5000, 8000]\n",
    "client_set = [10, 20]\n",
    "msg_rate_set = [1000, 1500, 2000]\n",
    "first_test = False\n",
    "\n",
    "for client_num in client_set:\n",
    "    options.total_sub_apps = int(client_num / 10)\n",
    "    for msg_rate in msg_rate_set:\n",
    "        options.msg_rate = msg_rate\n",
    "        RunTest('run_' + str(msg_rate), first_test)\n",
    "        first_test = True\n",
    "        #print(\"Run_%s FINISHED\" %str(msg_rate))\n",
    "        #wait = raw_input(\"PRESS ENTER TO CONTINUE.\")\n",
    "        #print(\"Next Run to be executed...\")"
   ]
  },
  {
   "cell_type": "code",
   "execution_count": null,
   "metadata": {
    "collapsed": false
   },
   "outputs": [],
   "source": [
    "client_set = [20, 50]\n",
    "msg_rate_set = [1000, 1500]\n",
    "first_test = False\n",
    "\n",
    "for client_num in client_set:\n",
    "    options.total_sub_apps = int(client_num / 10)\n",
    "    for msg_rate in msg_rate_set:\n",
    "        options.msg_rate = msg_rate\n",
    "        RunTestBulk('run_' + str(msg_rate), first_test)\n",
    "        first_test = True\n",
    "        print(\"Run_%s FINISHED\" %str(msg_rate))\n",
    "        wait = raw_input(\"PRESS ENTER TO CONTINUE.\")\n",
    "        print(\"Next Run to be executed...\")"
   ]
  },
  {
   "cell_type": "code",
   "execution_count": 8,
   "metadata": {
    "collapsed": false
   },
   "outputs": [],
   "source": [
    "import plotly.plotly as py\n",
    "from plotly.graph_objs import *\n",
    "\n",
    "traces_plot1 = []\n",
    "traces_plot2 = []\n",
    "traces_plot3 = []\n",
    "\n",
    "for trace, tests_per_trace in global_results.iteritems():\n",
    "    average_packet_loss = []\n",
    "    average_packets = []\n",
    "    average_rate = []\n",
    "    average_tx_rate = []\n",
    "    client_count = []\n",
    "    failing_clients = []\n",
    "    failing_clients_rate = []\n",
    "    packet_tx = []\n",
    "    pub_net_rxrate = []\n",
    "    pub_net_txrate = []\n",
    "    for test, stats in tests_per_trace.iteritems():\n",
    "        average_packet_loss.append(stats['average_packet_loss'])\n",
    "        average_packets.append(stats['average_packets'])\n",
    "        average_rate.append(stats['average_rate'])\n",
    "        average_tx_rate.append(stats['average_tx_rate'])\n",
    "        client_count.append(stats['client_count'])\n",
    "        failing_clients.append(stats['failing_clients'])\n",
    "        if stats['failing_clients'] != 0:\n",
    "            failing_clients_rate.append(stats['failing_clients_rate'])\n",
    "        packet_tx.append(stats['packet_tx'])\n",
    "        pub_net_rxrate.append(stats['pub_net_rxrate'])\n",
    "        pub_net_txrate.append(stats['pub_net_txrate'])\n",
    "        \n",
    "    trace_plot1 = Scatter(\n",
    "      x=average_tx_rate,\n",
    "      y=average_rate\n",
    "    )\n",
    "    trace_plot2 = Scatter(\n",
    "      x=average_tx_rate,\n",
    "      y=average_packet_loss\n",
    "    )\n",
    "    trace_plot3 = Scatter(\n",
    "      x=average_tx_rate,\n",
    "      y=failing_clients_rate\n",
    "    )\n",
    "    \n",
    "    traces_plot1.append(trace_plot1)\n",
    "    traces_plot2.append(trace_plot2)\n",
    "    traces_plot3.append(trace_plot3)\n",
    "    \n"
   ]
  },
  {
   "cell_type": "code",
   "execution_count": 9,
   "metadata": {
    "collapsed": false
   },
   "outputs": [
    {
     "name": "stderr",
     "output_type": "stream",
     "text": [
      "/home/annyz/venv/local/lib/python2.7/site-packages/requests/packages/urllib3/util/ssl_.py:122: InsecurePlatformWarning:\n",
      "\n",
      "A true SSLContext object is not available. This prevents urllib3 from configuring SSL appropriately and may cause certain SSL connections to fail. You can upgrade to a newer version of Python to solve this. For more information, see https://urllib3.readthedocs.org/en/latest/security.html#insecureplatformwarning.\n",
      "\n"
     ]
    },
    {
     "data": {
      "text/html": [
       "<iframe id=\"igraph\" scrolling=\"no\" style=\"border:none;\" seamless=\"seamless\" src=\"https://plot.ly/~anny.martinez/8.embed\" height=\"525px\" width=\"100%\"></iframe>"
      ],
      "text/plain": [
       "<plotly.tools.PlotlyDisplay object>"
      ]
     },
     "execution_count": 9,
     "metadata": {},
     "output_type": "execute_result"
    }
   ],
   "source": [
    "data = Data(traces_plot1)\n",
    "py.iplot(data, filename = 'kafka-rx-tx')"
   ]
  },
  {
   "cell_type": "code",
   "execution_count": 10,
   "metadata": {
    "collapsed": false
   },
   "outputs": [
    {
     "name": "stderr",
     "output_type": "stream",
     "text": [
      "/home/annyz/venv/local/lib/python2.7/site-packages/requests/packages/urllib3/util/ssl_.py:122: InsecurePlatformWarning:\n",
      "\n",
      "A true SSLContext object is not available. This prevents urllib3 from configuring SSL appropriately and may cause certain SSL connections to fail. You can upgrade to a newer version of Python to solve this. For more information, see https://urllib3.readthedocs.org/en/latest/security.html#insecureplatformwarning.\n",
      "\n"
     ]
    },
    {
     "data": {
      "text/html": [
       "<iframe id=\"igraph\" scrolling=\"no\" style=\"border:none;\" seamless=\"seamless\" src=\"https://plot.ly/~anny.martinez/10.embed\" height=\"525px\" width=\"100%\"></iframe>"
      ],
      "text/plain": [
       "<plotly.tools.PlotlyDisplay object>"
      ]
     },
     "execution_count": 10,
     "metadata": {},
     "output_type": "execute_result"
    }
   ],
   "source": [
    "data = Data(traces_plot2)\n",
    "py.iplot(data, filename = 'kafka-loss-tx')"
   ]
  },
  {
   "cell_type": "code",
   "execution_count": 12,
   "metadata": {
    "collapsed": false
   },
   "outputs": [
    {
     "name": "stderr",
     "output_type": "stream",
     "text": [
      "/home/annyz/venv/local/lib/python2.7/site-packages/requests/packages/urllib3/util/ssl_.py:122: InsecurePlatformWarning:\n",
      "\n",
      "A true SSLContext object is not available. This prevents urllib3 from configuring SSL appropriately and may cause certain SSL connections to fail. You can upgrade to a newer version of Python to solve this. For more information, see https://urllib3.readthedocs.org/en/latest/security.html#insecureplatformwarning.\n",
      "\n"
     ]
    },
    {
     "data": {
      "text/html": [
       "<iframe id=\"igraph\" scrolling=\"no\" style=\"border:none;\" seamless=\"seamless\" src=\"https://plot.ly/~anny.martinez/12.embed\" height=\"525px\" width=\"100%\"></iframe>"
      ],
      "text/plain": [
       "<plotly.tools.PlotlyDisplay object>"
      ]
     },
     "execution_count": 12,
     "metadata": {},
     "output_type": "execute_result"
    }
   ],
   "source": [
    "data = Data(traces_plot3)\n",
    "py.iplot(data, filename = 'kafka-fail-tx')"
   ]
  },
  {
   "cell_type": "code",
   "execution_count": null,
   "metadata": {
    "collapsed": true
   },
   "outputs": [],
   "source": [
    "runner.delete_all_launched_apps()\n",
    "runner.stop_appserver()"
   ]
  }
 ],
 "metadata": {
  "kernelspec": {
   "display_name": "Python 2",
   "language": "python",
   "name": "python2"
  },
  "language_info": {
   "codemirror_mode": {
    "name": "ipython",
    "version": 2
   },
   "file_extension": ".py",
   "mimetype": "text/x-python",
   "name": "python",
   "nbconvert_exporter": "python",
   "pygments_lexer": "ipython2",
   "version": "2.7.6"
  }
 },
 "nbformat": 4,
 "nbformat_minor": 0
}
